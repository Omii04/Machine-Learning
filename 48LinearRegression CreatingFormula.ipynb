{
 "cells": [
  {
   "cell_type": "code",
   "execution_count": 59,
   "id": "fcb7767d",
   "metadata": {},
   "outputs": [],
   "source": [
    "import pandas as pd            \n",
    "import numpy as np                  \n",
    "import seaborn as sns            \n",
    "import matplotlib.pyplot as plt                 \n",
    "from sklearn.model_selection import train_test_split\n",
    "from sklearn.linear_model import LinearRegression"
   ]
  },
  {
   "cell_type": "code",
   "execution_count": 60,
   "id": "6414d14e",
   "metadata": {},
   "outputs": [],
   "source": [
    "class MeraLR:\n",
    "    def __init__(self):\n",
    "        self.m=0\n",
    "        self.b=0\n",
    "    \n",
    "    def fit(self,X_train,y_train):\n",
    "        num=0\n",
    "        den=0\n",
    "        \n",
    "        for i in range(X_train.shape[0]):\n",
    "            num=num+((X_train[i]-X_train.mean())*(y_train[i]-y_train.mean()))\n",
    "            den=den+((X_train[i]-X_train.mean())*(y_train[i]-y_train.mean()))\n",
    "            \n",
    "        self.m=num/den\n",
    "        self.b=y_train.mean()-(self.m*X_train.mean())\n",
    "        print(self.m)\n",
    "        print(self.b)\n",
    "        \n",
    "    def predict(self,X_test):\n",
    "        return self.m*X_test+self.b"
   ]
  },
  {
   "cell_type": "code",
   "execution_count": 61,
   "id": "a1bf3811",
   "metadata": {},
   "outputs": [
    {
     "data": {
      "text/html": [
       "<div>\n",
       "<style scoped>\n",
       "    .dataframe tbody tr th:only-of-type {\n",
       "        vertical-align: middle;\n",
       "    }\n",
       "\n",
       "    .dataframe tbody tr th {\n",
       "        vertical-align: top;\n",
       "    }\n",
       "\n",
       "    .dataframe thead th {\n",
       "        text-align: right;\n",
       "    }\n",
       "</style>\n",
       "<table border=\"1\" class=\"dataframe\">\n",
       "  <thead>\n",
       "    <tr style=\"text-align: right;\">\n",
       "      <th></th>\n",
       "      <th>cgpa</th>\n",
       "      <th>package</th>\n",
       "    </tr>\n",
       "  </thead>\n",
       "  <tbody>\n",
       "    <tr>\n",
       "      <th>0</th>\n",
       "      <td>6.89</td>\n",
       "      <td>3.26</td>\n",
       "    </tr>\n",
       "    <tr>\n",
       "      <th>1</th>\n",
       "      <td>5.12</td>\n",
       "      <td>1.98</td>\n",
       "    </tr>\n",
       "    <tr>\n",
       "      <th>2</th>\n",
       "      <td>7.82</td>\n",
       "      <td>3.25</td>\n",
       "    </tr>\n",
       "    <tr>\n",
       "      <th>3</th>\n",
       "      <td>7.42</td>\n",
       "      <td>3.67</td>\n",
       "    </tr>\n",
       "    <tr>\n",
       "      <th>4</th>\n",
       "      <td>6.94</td>\n",
       "      <td>3.57</td>\n",
       "    </tr>\n",
       "  </tbody>\n",
       "</table>\n",
       "</div>"
      ],
      "text/plain": [
       "   cgpa  package\n",
       "0  6.89     3.26\n",
       "1  5.12     1.98\n",
       "2  7.82     3.25\n",
       "3  7.42     3.67\n",
       "4  6.94     3.57"
      ]
     },
     "execution_count": 61,
     "metadata": {},
     "output_type": "execute_result"
    }
   ],
   "source": [
    "df=pd.read_csv(r\"C:\\Users\\om420\\Downloads\\archive (2)\\placement.csv\")\n",
    "df.head()"
   ]
  },
  {
   "cell_type": "code",
   "execution_count": 62,
   "id": "ea12310d",
   "metadata": {},
   "outputs": [],
   "source": [
    "lr=MeraLR()"
   ]
  },
  {
   "cell_type": "code",
   "execution_count": 63,
   "id": "ebb1694e",
   "metadata": {},
   "outputs": [],
   "source": [
    "X=df.iloc[:,:-1].values\n",
    "y=df.iloc[:,-1].values"
   ]
  },
  {
   "cell_type": "code",
   "execution_count": 64,
   "id": "2bcc9115",
   "metadata": {},
   "outputs": [],
   "source": [
    "X_train, X_test, y_train, y_test = train_test_split(X,y,test_size=0.2,random_state=2)"
   ]
  },
  {
   "cell_type": "code",
   "execution_count": 65,
   "id": "0190c28e",
   "metadata": {},
   "outputs": [
    {
     "data": {
      "text/plain": [
       "array([[7.14],\n",
       "       [8.93],\n",
       "       [5.42],\n",
       "       [5.1 ],\n",
       "       [7.77],\n",
       "       [6.76],\n",
       "       [6.89],\n",
       "       [6.68],\n",
       "       [7.91],\n",
       "       [7.89],\n",
       "       [8.71],\n",
       "       [7.95],\n",
       "       [6.61],\n",
       "       [6.26],\n",
       "       [6.53],\n",
       "       [6.42],\n",
       "       [5.11],\n",
       "       [6.09],\n",
       "       [6.93],\n",
       "       [7.04],\n",
       "       [5.94],\n",
       "       [6.05],\n",
       "       [5.83],\n",
       "       [5.95],\n",
       "       [9.31],\n",
       "       [5.58],\n",
       "       [7.88],\n",
       "       [6.13],\n",
       "       [7.76],\n",
       "       [4.85],\n",
       "       [6.19],\n",
       "       [8.6 ],\n",
       "       [6.07],\n",
       "       [7.18],\n",
       "       [5.12],\n",
       "       [7.39],\n",
       "       [8.25],\n",
       "       [8.28],\n",
       "       [7.13],\n",
       "       [7.35],\n",
       "       [5.66],\n",
       "       [5.99],\n",
       "       [8.01],\n",
       "       [7.14],\n",
       "       [6.34],\n",
       "       [6.89],\n",
       "       [5.42],\n",
       "       [6.47],\n",
       "       [7.69],\n",
       "       [7.4 ],\n",
       "       [7.28],\n",
       "       [5.95],\n",
       "       [7.38],\n",
       "       [6.93],\n",
       "       [8.99],\n",
       "       [7.36],\n",
       "       [7.08],\n",
       "       [5.38],\n",
       "       [7.56],\n",
       "       [8.22],\n",
       "       [5.84],\n",
       "       [6.78],\n",
       "       [7.19],\n",
       "       [7.28],\n",
       "       [6.79],\n",
       "       [6.12],\n",
       "       [6.85],\n",
       "       [8.2 ],\n",
       "       [6.84],\n",
       "       [7.37],\n",
       "       [6.22],\n",
       "       [6.61],\n",
       "       [5.23],\n",
       "       [7.21],\n",
       "       [6.85],\n",
       "       [6.19],\n",
       "       [7.3 ],\n",
       "       [6.17],\n",
       "       [5.89],\n",
       "       [8.09],\n",
       "       [7.11],\n",
       "       [4.26],\n",
       "       [6.94],\n",
       "       [5.98],\n",
       "       [6.71],\n",
       "       [7.33],\n",
       "       [9.06],\n",
       "       [6.1 ],\n",
       "       [5.48],\n",
       "       [6.1 ],\n",
       "       [7.56],\n",
       "       [7.29],\n",
       "       [5.84],\n",
       "       [7.48],\n",
       "       [7.61],\n",
       "       [5.79],\n",
       "       [5.61],\n",
       "       [7.34],\n",
       "       [9.38],\n",
       "       [7.91],\n",
       "       [6.94],\n",
       "       [7.94],\n",
       "       [8.31],\n",
       "       [6.96],\n",
       "       [6.93],\n",
       "       [7.11],\n",
       "       [8.44],\n",
       "       [8.18],\n",
       "       [6.66],\n",
       "       [8.44],\n",
       "       [7.12],\n",
       "       [6.3 ],\n",
       "       [5.84],\n",
       "       [6.98],\n",
       "       [7.63],\n",
       "       [5.64],\n",
       "       [7.43],\n",
       "       [8.87],\n",
       "       [7.84],\n",
       "       [5.84],\n",
       "       [9.58],\n",
       "       [8.37],\n",
       "       [7.63],\n",
       "       [6.31],\n",
       "       [6.5 ],\n",
       "       [8.11],\n",
       "       [6.07],\n",
       "       [4.73],\n",
       "       [7.3 ],\n",
       "       [6.51],\n",
       "       [7.28],\n",
       "       [6.92],\n",
       "       [6.35],\n",
       "       [8.62],\n",
       "       [7.05],\n",
       "       [9.26],\n",
       "       [6.33],\n",
       "       [6.22],\n",
       "       [6.94],\n",
       "       [5.13],\n",
       "       [8.13],\n",
       "       [5.9 ],\n",
       "       [9.04],\n",
       "       [6.06],\n",
       "       [7.57],\n",
       "       [8.1 ],\n",
       "       [9.16],\n",
       "       [5.84],\n",
       "       [7.89],\n",
       "       [6.63],\n",
       "       [7.09],\n",
       "       [5.53],\n",
       "       [6.75],\n",
       "       [7.62],\n",
       "       [6.97],\n",
       "       [7.66],\n",
       "       [6.14],\n",
       "       [7.78],\n",
       "       [7.25],\n",
       "       [8.65]])"
      ]
     },
     "execution_count": 65,
     "metadata": {},
     "output_type": "execute_result"
    }
   ],
   "source": [
    "X_train"
   ]
  },
  {
   "cell_type": "code",
   "execution_count": 66,
   "id": "9c295097",
   "metadata": {},
   "outputs": [
    {
     "name": "stdout",
     "output_type": "stream",
     "text": [
      "[1.]\n",
      "[-3.986]\n"
     ]
    }
   ],
   "source": [
    "lr.fit(X_train,y_train)"
   ]
  },
  {
   "cell_type": "code",
   "execution_count": 67,
   "id": "4fe1a915",
   "metadata": {},
   "outputs": [
    {
     "name": "stdout",
     "output_type": "stream",
     "text": [
      "[4.594]\n"
     ]
    }
   ],
   "source": [
    "print(lr.predict(X_test[0]))"
   ]
  },
  {
   "cell_type": "code",
   "execution_count": 68,
   "id": "11520398",
   "metadata": {},
   "outputs": [
    {
     "data": {
      "text/plain": [
       "[<matplotlib.lines.Line2D at 0x25629ff3940>]"
      ]
     },
     "execution_count": 68,
     "metadata": {},
     "output_type": "execute_result"
    },
    {
     "data": {
      "image/png": "[encoded data removed]",
      "text/plain": [
       "<Figure size 640x480 with 1 Axes>"
      ]
     },
     "metadata": {},
     "output_type": "display_data"
    }
   ],
   "source": [
    "sns.scatterplot(df,x=\"cgpa\",y=\"package\")\n",
    "plt.plot(X,lr.predict(X),color='red')"
   ]
  }
 ],
 "metadata": {
  "kernelspec": {
   "display_name": "myenv",
   "language": "python",
   "name": "python3"
  },
  "language_info": {
   "codemirror_mode": {
    "name": "ipython",
    "version": 3
   },
   "file_extension": ".py",
   "mimetype": "text/x-python",
   "name": "python",
   "nbconvert_exporter": "python",
   "pygments_lexer": "ipython3",
   "version": "3.9.23"
  }
 },
 "nbformat": 4,
 "nbformat_minor": 5
}
